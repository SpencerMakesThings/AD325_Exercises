{
 "cells": [
  {
   "cell_type": "markdown",
   "metadata": {},
   "source": [
    "DATA LEMUR PROBLEM:\n",
    "List the intersection of two lists:"
   ]
  },
  {
   "cell_type": "code",
   "execution_count": null,
   "metadata": {},
   "outputs": [],
   "source": [
    "def intersection(a, b):     # the method takes in 2 lists\n",
    "  intersectionList = []     # makes a new list for output\n",
    "  for i in a:               # for every character in the first list\n",
    "    if i in b:              # if it's also in the second list\n",
    "      intersectionList.append(i)    # append it to the output list\n",
    "  return intersectionList   # return the completed output list"
   ]
  },
  {
   "cell_type": "markdown",
   "metadata": {},
   "source": [
    "CODE STEP BY STEP PROBLEMS:\n",
    "#1: Count Duplicates"
   ]
  },
  {
   "cell_type": "code",
   "execution_count": 1,
   "metadata": {},
   "outputs": [
    {
     "name": "stdout",
     "output_type": "stream",
     "text": [
      "6\n"
     ]
    }
   ],
   "source": [
    "def count_duplicates(a):    # the method takes in a list\n",
    "    dupeCounter = 0         # an output variable for counting\n",
    "    compareList = []        # a list to fill with chars that have been encountered\n",
    "    for i in a:             # for every char in the given list\n",
    "        if i in compareList:    # if it's already in the compareList\n",
    "            dupeCounter = (dupeCounter+1)   # add 1 to the dupeCounter\n",
    "        compareList.append(i)   # append every char to the compareList after it's been checked\n",
    "    return dupeCounter      # return the dupeCounter"
   ]
  },
  {
   "cell_type": "markdown",
   "metadata": {},
   "source": [
    "#2: Is Stack Sorted?"
   ]
  },
  {
   "cell_type": "code",
   "execution_count": 17,
   "metadata": {},
   "outputs": [
    {
     "name": "stdout",
     "output_type": "stream",
     "text": [
      "Next Int: 4  Prev Int:  5\n"
     ]
    },
    {
     "data": {
      "text/plain": [
       "False"
      ]
     },
     "execution_count": 17,
     "metadata": {},
     "output_type": "execute_result"
    }
   ],
   "source": [
    "def is_stack_sorted(b): # takes in a stack and checks if it's ordered\n",
    "    if(len(b)==1 or len(b)==0):\n",
    "        return True # always return true for stacks of length 1 or less\n",
    "    elif(len(b)>1):\n",
    "        a = b.copy()\n",
    "        prevInt = a.pop()   # pops the first int from the stack\n",
    "        nextInt = a.pop()   # pops the next int in the stack\n",
    "        while (len(a)>0):   # as long as there are numbers in the stack left to compare\n",
    "            if nextInt < prevInt:   # compare next int to previous int\n",
    "                return False        # if it's not in order, return fals\n",
    "            prevInt = nextInt       # make next int the new prev int\n",
    "            if (len(a)>0):\n",
    "                nextInt = a.pop()       # pop from the stack to advance to the next int\n",
    "    if(nextInt < prevInt):  # a bodged if to check the last 2 numbers in the stack\n",
    "        return False\n",
    "    return True     # if all ints have been in order, return true\n",
    "# i disliked this problem bigly"
   ]
  },
  {
   "cell_type": "markdown",
   "metadata": {},
   "source": [
    "#3: Find the Median"
   ]
  },
  {
   "cell_type": "code",
   "execution_count": null,
   "metadata": {},
   "outputs": [],
   "source": [
    "def median(a):      # method takes in a list\n",
    "    b = sorted(a)   # creates a sorted version of that list\n",
    "    medianIndex = len(b) // 2   # finds the middle index\n",
    "    return b[medianIndex]   # returns the middle index of the sorted list"
   ]
  },
  {
   "cell_type": "markdown",
   "metadata": {},
   "source": [
    "LEETCODE PROBLEM\n",
    "Implement Queue Using Stacks\n"
   ]
  },
  {
   "cell_type": "code",
   "execution_count": null,
   "metadata": {},
   "outputs": [],
   "source": [
    "class MyQueue:\n",
    "\n",
    "    def __init__(self):\n",
    "        self.in_stack = []  # Stack for push (back)\n",
    "        self.out_stack = [] # Stack for pop/peek (front)\n",
    "\n",
    "    def push(self, x: int) -> None:\n",
    "        self.in_stack.append(x)     # add x to the back of the queue\n",
    "\n",
    "    def pop(self) -> int:\n",
    "        self._transfer()    # move int to the out_stack\n",
    "        return self.out_stack.pop() # pop the top element from out_stack\n",
    "\n",
    "    def peek(self) -> int:\n",
    "        self._transfer()    # move int to out_stack\n",
    "        return self.out_stack[-1] # return the top of the stack\n",
    "\n",
    "    def empty(self) -> bool:\n",
    "        return (not self.in_stack and not self.out_stack) # returns true if stacks are empty\n",
    "\n",
    "    def _transfer(self): # helper function to move elements from instack to outstack\n",
    "        if not self.out_stack: # only transfer if out_stack is empty\n",
    "            while self.in_stack: # move all elements from instack to outstack\n",
    "                self.out_stack.append(self.in_stack.pop()) # pop from in and append to out"
   ]
  }
 ],
 "metadata": {
  "kernelspec": {
   "display_name": "base",
   "language": "python",
   "name": "python3"
  },
  "language_info": {
   "codemirror_mode": {
    "name": "ipython",
    "version": 3
   },
   "file_extension": ".py",
   "mimetype": "text/x-python",
   "name": "python",
   "nbconvert_exporter": "python",
   "pygments_lexer": "ipython3",
   "version": "3.12.4"
  }
 },
 "nbformat": 4,
 "nbformat_minor": 2
}
