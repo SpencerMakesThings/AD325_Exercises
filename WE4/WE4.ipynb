{
 "cells": [
  {
   "cell_type": "markdown",
   "metadata": {},
   "source": [
    "DataLemur: Contains Duplicates"
   ]
  },
  {
   "cell_type": "code",
   "execution_count": 2,
   "metadata": {},
   "outputs": [
    {
     "name": "stdout",
     "output_type": "stream",
     "text": [
      "Expect True, Result:  True\n",
      "Expect False, Result:  False\n"
     ]
    }
   ],
   "source": [
    "\n",
    "\n",
    "def contains_duplicate(input)-> bool:\n",
    "  seen = []   # a list for numbers we've seen\n",
    "  for i in input:               # read through the list\n",
    "    if  i in seen: return True  # check if we've seen the number (return true if so)\n",
    "    seen.append(i)              # add the number to the seen number list\n",
    "  return False  # if the entire list is read and no dupes were found return False\n",
    "\n",
    "# Testing:\n",
    "# print(\"Expect True, Result: \",contains_duplicate([1,3,5,7,1]))\n",
    "# print(\"Expect False, Result: \",contains_duplicate([1,3,5,7,]))\n",
    "\n",
    "# Pseudo:\n",
    "# input is a list\n",
    "# search the list for dupes\n",
    "#   as we read the list items\n",
    "#   return True if item is in seen list\n",
    "#   add ints to a list of \"seen\" numbers"
   ]
  }
 ],
 "metadata": {
  "kernelspec": {
   "display_name": "base",
   "language": "python",
   "name": "python3"
  },
  "language_info": {
   "codemirror_mode": {
    "name": "ipython",
    "version": 3
   },
   "file_extension": ".py",
   "mimetype": "text/x-python",
   "name": "python",
   "nbconvert_exporter": "python",
   "pygments_lexer": "ipython3",
   "version": "3.12.4"
  }
 },
 "nbformat": 4,
 "nbformat_minor": 2
}
