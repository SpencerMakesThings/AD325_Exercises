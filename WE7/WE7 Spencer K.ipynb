{
 "cells": [
  {
   "cell_type": "markdown",
   "metadata": {},
   "source": [
    "### Data Lemur, Largest Prime Factor\n",
    "\n",
    "Given a target number, write a function to return the largest prime\n",
    "factor of that target number\n",
    "\n",
    "Por ejemplo, 42 has the prime factors 2, 3, & 7, so it returns 7\n",
    "for 25, the prime factors are 5, 5 & 5, so we'd return 5"
   ]
  },
  {
   "cell_type": "code",
   "execution_count": null,
   "metadata": {},
   "outputs": [
    {
     "name": "stdout",
     "output_type": "stream",
     "text": [
      "[2, 3, 5, 7, 11, 13, 17, 19, 23, 29, 31, 37, 41]\n",
      "[2, 3, 7]\n"
     ]
    },
    {
     "data": {
      "text/plain": [
       "7"
      ]
     },
     "execution_count": 16,
     "metadata": {},
     "output_type": "execute_result"
    }
   ],
   "source": [
    "def largest_prime_factor(target):\n",
    "    # let's start by finding primes smaller than target\n",
    "    primes_under_target = isPrimeInRange(0,target) \n",
    "    # print(primes_under_target) # diag\n",
    "\n",
    "    # next let's check how many of these give us even division with target\n",
    "    prime_factors = []                                  # a list to append prime factors to\n",
    "    for p in primes_under_target:                       # for all the primes less than target\n",
    "        if ((p <= (target/2)) and ((target%p) == 0)):   # if it's <1/2 and divides evenly\n",
    "            prime_factors.append(p)                     # add it to the prime factor list\n",
    "    # print(prime_factors) # diag\n",
    "    return max(prime_factors)                           # return the highest prime factor\n",
    "\n",
    "\n",
    "\n",
    "\n",
    "# Some helper methods from AD315 homework 2\n",
    "def isOdd(n): # a helper function to check if an integer is odd\n",
    "    if((n%2)==0): return False\n",
    "    else: return True\n",
    "\n",
    "\n",
    "def isPrime(n):             # determines whether given int is prime\n",
    "    if(n==1 or n==0):       # handles the cases of 1 and 0\n",
    "        return False\n",
    "    elif(n==2):             # handles the case of 2\n",
    "        return True\n",
    "    elif(not isOdd(n)):     # handles all even numbers except 0 and 2\n",
    "        return False\n",
    "    for x in range(2,round(n**(1/2))+1):# for every number x between 2 and sqroot n\n",
    "        if(isOdd(x)):                   # only checks odds cause we already checked 2\n",
    "            if((n%x)==0):               # if n divides by x evenly\n",
    "                return False            # return false\n",
    "    return True                         # if none divide evenly, it's a prime\n",
    "\n",
    "\n",
    "def isPrimeInRange(i,j):                # checks from primse in given range\n",
    "    outputList = []                     # a list to return at the end\n",
    "    for x in range(i,j+1):              # for every x in the given range\n",
    "        if(isPrime(x)):                 # if x is prime\n",
    "            outputList.append(x)        # append it to the return list\n",
    "    return outputList                   # return that list\n",
    "\n",
    "# testing\n",
    "#largest_prime_factor(42)"
   ]
  },
  {
   "cell_type": "markdown",
   "metadata": {},
   "source": [
    "## Leet Code: 506 Relative Ranks"
   ]
  },
  {
   "cell_type": "code",
   "execution_count": null,
   "metadata": {},
   "outputs": [
    {
     "name": "stdout",
     "output_type": "stream",
     "text": [
      "['Gold Medal', 'Silver Medal', 'Bronze Medal', '3', '4']\n"
     ]
    }
   ],
   "source": [
    "# it says use a heap to do these but idk how we should treat it differently\n",
    "# if we're just given an array\n",
    "\n",
    "# the ith position is their placement, so the most obvious method to get the desired output\n",
    "# is to print the correct gold, silver, bronze, 4th etc using if elifs\n",
    "\n",
    "class Solution:\n",
    "    \n",
    "    def findRelativeRanks(self, score: list[int]) -> list[str]:\n",
    "        \n",
    "        sorted_list = sorted(score, reverse=True)       # sort scores\n",
    "        map = {}                                        # map for scores to medals/places\n",
    "        returnList = []                                 # a list to return\n",
    "\n",
    "        for i in range(0,len(score)):                   # for every index in score\n",
    "            if i == 0:                                  # if it's highest\n",
    "                map[sorted_list[i]] = \"Gold Medal\"      # map that score to gold medal\n",
    "            elif i == 1:                                # if it's 2nd highest\n",
    "                map[sorted_list[i]] = \"Silver Medal\"    # map that score to silver medal\n",
    "            elif i == 2:                                # if it's 3rd highest\n",
    "                map[sorted_list[i]] = \"Bronze Medal\"    # map that score to bronze medal\n",
    "            else:                                       # for the rest\n",
    "                map[sorted_list[i]] = str(i+1)          # map them to their appropriate place\n",
    "        \n",
    "        for j in range(0,len(score)):                   # for every index in score\n",
    "            returnList.append(map[score[j]])            # append what that score maps to\n",
    "        return returnList                               # to the return list and return\n",
    "\n",
    "# Testing stuff\n",
    "# sol = Solution()\n",
    "# print(sol.findRelativeRanks(score=[5,4,3,2,1]))"
   ]
  }
 ],
 "metadata": {
  "kernelspec": {
   "display_name": "base",
   "language": "python",
   "name": "python3"
  },
  "language_info": {
   "codemirror_mode": {
    "name": "ipython",
    "version": 3
   },
   "file_extension": ".py",
   "mimetype": "text/x-python",
   "name": "python",
   "nbconvert_exporter": "python",
   "pygments_lexer": "ipython3",
   "version": "3.12.4"
  }
 },
 "nbformat": 4,
 "nbformat_minor": 2
}
