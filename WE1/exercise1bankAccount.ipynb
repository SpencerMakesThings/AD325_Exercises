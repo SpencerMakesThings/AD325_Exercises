{
 "cells": [
  {
   "cell_type": "code",
   "execution_count": null,
   "metadata": {},
   "outputs": [],
   "source": [
    "# Spencer Kunz\n",
    "# Oct 11, 2024\n",
    "# AD325, Exercise 1\n",
    "\n",
    "class BankAccount:\n",
    "    def __init__(self, name):           # BankAccount constructor\n",
    "        self._name = name               # private variable for the name on the account\n",
    "        self._balance = 0.00            # private variable for balance\n",
    "        self._transaction_fee = 0.00    # private variable for the transaction fee\n",
    "\n",
    "    def __str__(self):                                  # returns the name and balance string\n",
    "        return f\"{self._name}, ${self._balance:.2f}\"    # Name, $balance (to 2 decimals)\n",
    "\n",
    "    @property               \n",
    "    def name(self):         \n",
    "        return self._name   # returns the name as a string\n",
    "    \n",
    "    @property\n",
    "    def balance(self):\n",
    "        return self._balance    # returns balance as a string\n",
    "    \n",
    "    @property\n",
    "    def transaction_fee(self):\n",
    "        return self._transaction_fee    # returns transaction fee as a string\n",
    "\n",
    "    @transaction_fee.setter\n",
    "    def transaction_fee(self, fee):     # Changes transaction fee using a float \"fee\"\n",
    "        if fee >= 0.0:                  # if the fee is >= 0\n",
    "            self._transaction_fee = fee # sets the transaction fee to the given fee number\n",
    "    \n",
    "    def deposit(self, amount):      # deposits the given amount\n",
    "        if amount > 0.0:            # if the amount is more than 0\n",
    "            self._balance += amount # add the amount to the account's balance\n",
    "    \n",
    "    def withdraw(self, amount): # withdraws the given amount. If there's enough money for the withdrawl\n",
    "        if (0 <= (amount+self._transaction_fee) <= self._balance):  # and the transaction fee, then\n",
    "            self._balance -= amount+self._transaction_fee           # subtract the amount+fee from balance"
   ]
  }
 ],
 "metadata": {
  "language_info": {
   "name": "python"
  }
 },
 "nbformat": 4,
 "nbformat_minor": 2
}
