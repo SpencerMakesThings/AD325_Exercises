{
 "cells": [
  {
   "cell_type": "code",
   "execution_count": null,
   "metadata": {},
   "outputs": [],
   "source": [
    "# Spencer Kunz\n",
    "# Oct 11, 2024\n",
    "# AD325, Exercise 1\n",
    "\n",
    "class BankAccount:\n",
    "    def __init__(self, name):\n",
    "        self._name = name\n",
    "        self._balance = 0.00\n",
    "        self._transaction_fee = 0.00\n",
    "\n",
    "    def __str__(self):\n",
    "        return f\"{self._name}, ${self._balance:.2f}\"\n",
    "\n",
    "    @property\n",
    "    def name(self):\n",
    "        return self._name\n",
    "    \n",
    "    @property\n",
    "    def balance(self):\n",
    "        return self._balance\n",
    "    \n",
    "    @property\n",
    "    def transaction_fee(self):\n",
    "        return self._transaction_fee\n",
    "\n",
    "    @transaction_fee.setter\n",
    "    def transaction_fee(self, fee):\n",
    "        if fee >= 0.0:\n",
    "            self._transaction_fee = fee\n",
    "    \n",
    "    def deposit(self, amount):\n",
    "        if amount > 0.0:\n",
    "            self._balance += amount\n",
    "    \n",
    "    def withdraw(self, amount):\n",
    "        if (0 <= (amount+self._transaction_fee) <= self._balance):\n",
    "            self._balance -= amount+self._transaction_fee"
   ]
  }
 ],
 "metadata": {
  "language_info": {
   "name": "python"
  }
 },
 "nbformat": 4,
 "nbformat_minor": 2
}
