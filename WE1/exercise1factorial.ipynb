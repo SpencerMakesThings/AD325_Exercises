{
 "cells": [
  {
   "cell_type": "code",
   "execution_count": null,
   "metadata": {},
   "outputs": [],
   "source": [
    "def factorial(n):                   # Computes the factorial of a given number n\n",
    "    if n == 0 or n == 1:            # Handles the case of 0! or 1!\n",
    "        return 1\n",
    "    else:                           # Handles all other cases\n",
    "        return n * factorial(n-1)   # Does one step of math and the recursively calls\n",
    "                                    # each further step"
   ]
  }
 ],
 "metadata": {
  "language_info": {
   "name": "python"
  }
 },
 "nbformat": 4,
 "nbformat_minor": 2
}
