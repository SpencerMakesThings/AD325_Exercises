{
 "cells": [
  {
   "cell_type": "markdown",
   "metadata": {},
   "source": [
    "1. Data Lemur problem"
   ]
  },
  {
   "cell_type": "code",
   "execution_count": null,
   "metadata": {},
   "outputs": [
    {
     "name": "stdout",
     "output_type": "stream",
     "text": [
      "2520\n"
     ]
    }
   ],
   "source": [
    "# write a function \"smallest_multiple\" to find the smallest number that is\n",
    "# perfectly divisible by all numbers from 1 to the target number\n",
    "# let's start by finding some multiples of target\n",
    "# we only need to check these multiples rather than all numbers\n",
    "\n",
    "def smallest_multiple(target):\n",
    "    smallest_mult = -1\n",
    "    j = 2 # we know 1 works, so skip it\n",
    "    while smallest_mult == -1:\n",
    "        # this loop finds multiples of target\n",
    "        x = j*target # find a multiple of target\n",
    "        for i in range(2,target): # for all numbers from 2 to the target\n",
    "            # this loop tests all numbers from 2 to target for remainders\n",
    "            if (x%i)>0: # if we hit a case where x modulo i returns a remainder\n",
    "                break   # we break the loop, cause this j don't hunt\n",
    "            elif (i == (target-1)) and ((x%(target-1))==0): # if we reach target-1 without break\n",
    "                smallest_mult = x   # ladies and gentlemen: we got him\n",
    "        j = j+1 # iterate j\n",
    "    return smallest_mult\n",
    "\n",
    "    # i think if i wanted to improve runtime that \"elif\" might become an \"else\""
   ]
  },
  {
   "cell_type": "code",
   "execution_count": 68,
   "metadata": {},
   "outputs": [
    {
     "name": "stdout",
     "output_type": "stream",
     "text": [
      "60\n",
      "60\n",
      "420\n",
      "nice\n",
      "2520\n"
     ]
    }
   ],
   "source": [
    "# test code\n",
    "\n",
    "print(smallest_multiple(5))\n",
    "print(smallest_multiple(6))\n",
    "print(smallest_multiple(7))\n",
    "print(\"nice\")\n",
    "print(smallest_multiple(10))"
   ]
  },
  {
   "cell_type": "markdown",
   "metadata": {},
   "source": [
    "2. Leetcode 704, Binary Search:"
   ]
  },
  {
   "cell_type": "code",
   "execution_count": 69,
   "metadata": {},
   "outputs": [],
   "source": [
    "# so we grab the midpoint\n",
    "# split left or right based on midpoint\n",
    "    # split won't work because we need to return an index\n",
    "    # nums = nums[mid:] # scrombles indices\n",
    "# repeat until we find (or don't find) the target\n",
    "\n",
    "class Solution:\n",
    "    def search(self, nums: list[int], target: int) -> int:\n",
    "        llat = 0             # left lateral search limit\n",
    "        rlat = (len(nums)-1) # right lateral search limit\n",
    "        while len(nums) >= 1: # while there's one or more elements\n",
    "            mid = (llat+((rlat-llat)//2)) # midpoint between rlat & llat\n",
    "            # print(\"mid = \", mid) # for diag\n",
    "            # compare midpoint to target and choose search direction\n",
    "            if(nums[mid] == target): # check if mid is target\n",
    "                return mid\n",
    "            # I was getting endless loops where llat == mid, so i added some ors\n",
    "            if ((rlat<=llat) or ((llat == mid) and (rlat == mid))): return -1 # target not found\n",
    "            elif(llat == mid):  # this bit prevents endless loops\n",
    "                mid = mid+1     # it's kind of a bodge, but it works\n",
    "                llat = mid      # \n",
    "                if(nums[mid]==target): return mid\n",
    "            elif(nums[mid] > target):   # go left\n",
    "                rlat = mid  # set the new right lateral limit\n",
    "                # print(\"rlat = \", rlat) # for diag\n",
    "            elif(nums[mid] < target):   # go right\n",
    "                llat = mid  # set the new left lateral limit\n",
    "                # print(\"llat = \", llat) # for diag\n",
    "        if nums[0] != target: return -1 # target not found"
   ]
  },
  {
   "cell_type": "code",
   "execution_count": 70,
   "metadata": {},
   "outputs": [
    {
     "name": "stdout",
     "output_type": "stream",
     "text": [
      "Expect 4, Returns:  4\n",
      "Expect 10, Returns:  10\n",
      "Expect -1, Returns:  -1\n",
      "Expect -1, Returns:  -1\n",
      "Expect -1, Returns:  -1\n",
      "Expect -1, Returns:  -1\n",
      "Expect -1, Returns:  -1\n",
      "Expect 4, Returns:  4\n",
      "Expect 0, Returns:  0\n",
      "Expect  25 , Returns:  25\n"
     ]
    }
   ],
   "source": [
    "# testing little bits down here\n",
    "\n",
    "\"\"\"\n",
    "def divide(a,b):\n",
    "    print(a//b)\n",
    "divide(9,2)\n",
    "divide(25,2)\n",
    "\"\"\"\n",
    "sol = Solution()\n",
    "\n",
    "alist = [4,6,13,19,22,25,26,29,34,35,37,40,43,48,51,64,69,72,74,77,80,84,85,87,89,93]\n",
    "\n",
    "\n",
    "print('Expect 4, Returns: ',sol.search(alist,22))\n",
    "print('Expect 10, Returns: ',sol.search(alist,37))\n",
    "print('Expect -1, Returns: ',sol.search(alist,41))\n",
    "print('Expect -1, Returns: ',sol.search(alist,39))\n",
    "print('Expect -1, Returns: ',sol.search(alist,100))\n",
    "print('Expect -1, Returns: ',sol.search(alist,3))\n",
    "print('Expect -1, Returns: ',sol.search(alist,86))\n",
    "\n",
    "print(\"Expect 4, Returns: \", sol.search([-1,0,3,5,9,12],9))\n",
    "print(\"Expect 0, Returns: \", sol.search([5],5))\n",
    "\n",
    "\n",
    "print('Expect ',(len(alist)-1),', Returns: ',sol.search(alist,93))\n",
    "# this gives us a case where \n",
    "\n"
   ]
  }
 ],
 "metadata": {
  "kernelspec": {
   "display_name": "base",
   "language": "python",
   "name": "python3"
  },
  "language_info": {
   "codemirror_mode": {
    "name": "ipython",
    "version": 3
   },
   "file_extension": ".py",
   "mimetype": "text/x-python",
   "name": "python",
   "nbconvert_exporter": "python",
   "pygments_lexer": "ipython3",
   "version": "3.12.4"
  }
 },
 "nbformat": 4,
 "nbformat_minor": 2
}
