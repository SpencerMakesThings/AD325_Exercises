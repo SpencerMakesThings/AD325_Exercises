{
 "cells": [
  {
   "cell_type": "markdown",
   "metadata": {},
   "source": [
    "## Weekly Exercise 6, Spencer K"
   ]
  },
  {
   "cell_type": "markdown",
   "metadata": {},
   "source": [
    "#### Data Lemur problem"
   ]
  },
  {
   "cell_type": "code",
   "execution_count": null,
   "metadata": {},
   "outputs": [
    {
     "name": "stdout",
     "output_type": "stream",
     "text": [
      "576\n",
      "60\n",
      "40\n",
      "10\n"
     ]
    }
   ],
   "source": [
    "# My very first thought is that the negatives make this a little more complicated\n",
    "# Since we're picking 3 numbers, there's the possibility of grabbing 2 negatives to get a final\n",
    "# product with a higher value. That's the only case where we grab negatives though because to\n",
    "# grab 1 or 3 negatives to multiply would make the product negative\n",
    "    # Since this is the only quirk I see, I think we can just add an \"if\" for the case that\n",
    "    # grabbing two negatives gives us a greater final product\n",
    "\n",
    "# pseudocode:\n",
    "# grab the 3 highest numbers, x y z\n",
    "# product = x*y*z\n",
    "# check if there 2+ negative numbers in the list\n",
    "    # grab the 2 lowest numbers and the highest\n",
    "    # multiply them to make alt_product\n",
    "    # if alt_product > product\n",
    "        # product = alt_product\n",
    "# return product\n",
    "\n",
    "\n",
    "def max_three(listy):\n",
    "    listy.sort()                                # may I be smote if this isn't a legal move\n",
    "                                                # it's tree week and trees gotta be sorted right?\n",
    "\n",
    "    x, y, z = listy[(len(listy)-3):]            # grabs the last 3 numbers from a sorted list\n",
    "    product = x*y*z                             # multiplies them for a product\n",
    "\n",
    "    if((listy[0] < 0) and (listy[1] < 0)):      # checks if there's at least 2 negatives in listy\n",
    "        a, b = listy[:2]                        # grabs the lowest two negatives from sorted list\n",
    "        alt_product = a*b*z                     # multiplies them by the greates positive in list\n",
    "        if(alt_product > product):              # compares the alt_product to product\n",
    "            product = alt_product               # if greater, we us the alt_product\n",
    "\n",
    "    return product                              # return the greatest product\n",
    "\n",
    "# TESTS\n",
    "print(max_three([1,2,-9,-8,3,4,5,6,7,8]))\n",
    "# DATA LEMUR'S TESTS\n",
    "print(max_three([1, 2, 3, 4, 5]))\n",
    "print(max_three([-4, -2, 3, 5]))\n",
    "print(max_three([-5, 5, 2, 1]))\n",
    "\n",
    "# I'm getting p frustrated with these websites not accepting working code\n",
    "# above are all DataLemur's test cases, and this program gives correct output for each of them\n",
    "# DataLemur says it throws a type error, but that's a steaming load of malarky\n",
    "\n",
    "# It was literally just that I'd changed \"input\" to \"listy\"; The Lemur is a fricken square"
   ]
  },
  {
   "cell_type": "markdown",
   "metadata": {},
   "source": [
    "#### LeetCode Problem: Balanced Binary Tree"
   ]
  },
  {
   "cell_type": "code",
   "execution_count": null,
   "metadata": {},
   "outputs": [],
   "source": [
    "#Given a binary tree, determine if it is height-balanced\n",
    "\n",
    "# so the trees are organized in an array like such\n",
    "# [root, r-1, r-1, r-2, r-2, r-2, r-2] and so on with elements organized first by height and\n",
    "#                                      then from left to right based on where they're at\n",
    "\n",
    "#       examples from LeetCode: (spaced to represent layering)\n",
    "#       [3   9,20   null,null,15,7]         True\n",
    "# h=     2    1            0  \n",
    "#       [1   2,2   3,3,null,null   4,4]     False\n",
    "# h =    3    2         1           0\n",
    "#       In this last one we can see that while height 1 still has nulls, height 0 has values\n",
    "#       If this were balanced, I don't think that would be so\n",
    "#       We'd fill want those hieght 1 slots filled in before putting anything lower\n",
    "#           This problem is just to return a bool of whether the tree is height balanced or not\n",
    "#           Phew, cause how we'd automate rebalancing isn't coming to me immediately\n",
    "#       I think this is how I'm gonna check the \n",
    "\n",
    "# I think we first want to read elements from left to right and organize them into layers\n",
    "# For simplicity, I'll refer to the root as A, the next down as B, etc\n",
    "# first is A, next two B, next four C, and so on, doubling til the end of the list\n",
    "# I if we make a list of list we can actually put everything in an index matching its height\n",
    "\n",
    "class TreeNode:\n",
    "    def __init__(self, val=0, left=None, right=None):\n",
    "        self.val = val\n",
    "        self.left = left\n",
    "        self.right = right\n",
    "\n",
    "class Solution:\n",
    "    # I know it's silly but when I was reading the problem text I really thought the tree\n",
    "    # could be interpretted as a list without using the nodes. So here's a method to read \n",
    "    # through a tree and convert it into the format that the checking method takes\n",
    "    # it took waaaaay more time than my pretty little isBalanced did\n",
    "    def listifyTree(root):\n",
    "        if not root:    # if not root\n",
    "            return []   # then who?\n",
    "        # handles nodeless trees\n",
    "\n",
    "        return_list = []                                        # a tree in a list formatted for isBalanced\n",
    "        popping_block = [(root,0)]                              # a queue to pop tree nodes\n",
    "\n",
    "        while popping_block:                                    # while there are nodes to pop\n",
    "            node, distance = popping_block.pop(0)               # Grab the first item in the queue\n",
    "            if node:                                            # if it's a node\n",
    "                return_list.append(distance)                    # append it's distance to the return_list\n",
    "                popping_block.append((node.left, distance+1))   # queue it's left child in the block\n",
    "                popping_block.append((node.right, distance+1))  # queue it's right child in the block\n",
    "            else:                                               # if he's not a node\n",
    "                return_list.append(None)                        # then he must be a None; append him\n",
    "\n",
    "        while return_list and return_list[-1] is None:          # If there's nodes, and it needs trimming\n",
    "            return_list.pop()                                   # trim the None from the end of the list\n",
    "        return return_list                                      # return the formatted list\n",
    "\n",
    "    def isBalanced(self,root):\n",
    "        root = Solution.listifyTree(root)                       # Format root to make this thing work\n",
    "        layer_list = []                                         # a list that will represent the tree\n",
    "        x = 1                                                   # start at one bc first layer is 1 element max length\n",
    "        while len(root) > 0:                                    # While there are elements left in the tree\n",
    "            layer_list.insert(0, root[:x])                      # insert the first x of them at the front of layer_list\n",
    "            for i in range(x):                                  # then go through x elements of the tree \n",
    "                if len(root) != 0:                              # and if there are still elements\n",
    "                    root.pop(0)                                 # pop em\n",
    "            x = x*2                                             # Double x to get the next layer's width\n",
    "\n",
    "        # next we'll look at height 1 in the list, and see if it's still got Nones in it despite height 0 being present\n",
    "        if (len(layer_list)>1):                                 # if there's more than one layer (a parent and child at least)\n",
    "            if (None in layer_list[1]):                         # if height 1 still has Nones in it\n",
    "                    return False                                # Not balanced, return False\n",
    "        return True                                             # Else, balanced, return True\n",
    "\n",
    "    # I committed to my initial goofy misunderstanding because I was so pleased with this little method and the neat lil \n",
    "    # trees it was able to print from the LeetCode example trees represented as lists. Unfortunately, I spent all this\n",
    "    # time sprucing it up and then LeetCode hit it with 228 test cases. It only failed 11, but I will probably have\n",
    "    # restart this whole problem"
   ]
  },
  {
   "attachments": {
    "image.png": {
     "image/png": "[encoded data removed]"
    }
   },
   "cell_type": "markdown",
   "metadata": {},
   "source": [
    "![image.png](attachment:image.png)"
   ]
  },
  {
   "cell_type": "markdown",
   "metadata": {},
   "source": [
    " The above program cleared 219/228 test cases. I don't know how to see the other 10 cases (aside from the one above) that didn't pass, but I'm surprised the above tree is balanced.\n",
    "\n",
    "This has all been dumb and I probably should've just started with a node traversing thing that counts the height of all the nodes and then did the little arm height comparison or something boring like that, but dag-nabbit, I wanted the layered_list to work.\n",
    "\n",
    "It's very late"
   ]
  },
  {
   "cell_type": "code",
   "execution_count": null,
   "metadata": {},
   "outputs": [],
   "source": [
    "class Solution:                                                         # I should've done this hours ago x.x\n",
    "   def height(node):                                                        # a recursive method to get node's height\n",
    "            if not node:                                                    # if it's not a node\n",
    "                return 0                                                    # it doesn't have a height\n",
    "            return 1 + max(Solution.height(node.left),                      # return 1 + the greater of the 2 heights\n",
    "                            Solution.height(node.right))                    # of the child nodes\n",
    "\n",
    "   def isBalanced(self,node):                                               # a recursive method to get node's height\n",
    "        if not node:                                                        # if it's not a node\n",
    "            return True                                                     # call it balanced\n",
    "        left_height = Solution.height(node.left)                            # grab the left arm height\n",
    "        right_height = Solution.height(node.right)                          # grab the right arm height\n",
    "        if abs(left_height - right_height) > 1:                             # check if the |difference| is more than 1\n",
    "            return False                                                    # not balanced, return False\n",
    "        return self.isBalanced(node.left) and self.isBalanced(node.right)   # recursively check the nodes below"
   ]
  },
  {
   "cell_type": "code",
   "execution_count": null,
   "metadata": {},
   "outputs": [
    {
     "name": "stdout",
     "output_type": "stream",
     "text": [
      "[4, 4]\n",
      "[3, 3, None, None]\n",
      "[2, 2]\n",
      "[1]\n",
      "False\n",
      "[4, 4]\n",
      "[3, 3, 'null', 'null']\n",
      "[2, 2]\n",
      "[1]\n",
      "False\n"
     ]
    }
   ],
   "source": [
    "# testing for the fun thing that didn't work\n",
    "\n",
    "listy = [1,2,2,3,3,None,None,4,4]\n",
    "listy2=[1,2,2,3,3,\"null\",\"null\",4,4]\n",
    "\n",
    "# brainstormy/testing bramch\n",
    "def isBalanced(root):\n",
    "    \n",
    "    layer_list = []\n",
    "    x = 1\n",
    "\n",
    "    while len(root) > 0:\n",
    "        layer_list.insert(0, root[:x])\n",
    "        for i in range(x):\n",
    "            if len(root) != 0:\n",
    "                root.pop(0)\n",
    "        x = x*2\n",
    "\n",
    "    # Test code\n",
    "    for i in layer_list:\n",
    "        print(i)\n",
    "\n",
    "    if (None in layer_list[1]) or ('null' in layer_list[1]):\n",
    "        return False\n",
    "    return True\n",
    "\n",
    "\n",
    "\"\"\"\n",
    "class TreeNode:\n",
    "    def __init__(self, val=0, left=None, right=None):\n",
    "        self.val = val\n",
    "        self.left = left\n",
    "        self.right = right\n",
    "\n",
    "def listifyTree(root):\n",
    "    if not root:    # if not root\n",
    "        return []   # then who?\n",
    "    return_list = []\n",
    "    popping_block = [(root,0)]  # \n",
    "    while popping_block:\n",
    "        node, distance = popping_block.pop(0)  # Grab the first item in the queue\n",
    "        if node: return_list.append(distance)\n",
    "        else: return_list.append(None)\n",
    "        if node:\n",
    "            popping_block.append((node.left, distance+1))\n",
    "            popping_block.append((node.right, distance+1))\n",
    "        while return_list and return_list[-1] is None:\n",
    "            return_list.pop()\n",
    "        return return_list\n",
    "\"\"\"\n",
    "print(isBalanced(listy))\n",
    "print(isBalanced(listy2))\n"
   ]
  }
 ],
 "metadata": {
  "kernelspec": {
   "display_name": "base",
   "language": "python",
   "name": "python3"
  },
  "language_info": {
   "codemirror_mode": {
    "name": "ipython",
    "version": 3
   },
   "file_extension": ".py",
   "mimetype": "text/x-python",
   "name": "python",
   "nbconvert_exporter": "python",
   "pygments_lexer": "ipython3",
   "version": "3.12.4"
  }
 },
 "nbformat": 4,
 "nbformat_minor": 2
}
