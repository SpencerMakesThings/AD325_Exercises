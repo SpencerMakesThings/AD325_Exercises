{
 "cells": [
  {
   "cell_type": "markdown",
   "metadata": {},
   "source": [
    "Code Step By Step\n",
    "Problem #1: binary search"
   ]
  },
  {
   "cell_type": "code",
   "execution_count": 26,
   "metadata": {},
   "outputs": [],
   "source": [
    "def binary_search(lst, target):\n",
    "    lstMid = (len(lst)//2)  # an integer for the mid-point of the list\n",
    "    if len(lst) == 0:   # base case of an empty list returns -1\n",
    "        return -1\n",
    "    elif (lst[lstMid] == target): # if the midpoint is the target, return midpoint\n",
    "        return lstMid\n",
    "    elif (lst[lstMid] != target): # if the mid point is not the target number\n",
    "        if (lst[lstMid] < target): # if the mid point is less than the target, go right\n",
    "            lstRight = binary_search(lst[lstMid+1:],target) # search lst right of lstMid\n",
    "            if lstRight != -1: # if the target is found\n",
    "                return (lstMid + 1 + lstRight) # return its index, +1 +midpoint bc slicing is annoying\n",
    "            else: return -1\n",
    "        \n",
    "        elif (lst[lstMid] > target): # if the mid point is more than the target, go left\n",
    "            return (binary_search(lst[:lstMid],target)) # search lst left of lstMid\n",
    "    else:\n",
    "        return -1"
   ]
  },
  {
   "cell_type": "code",
   "execution_count": 27,
   "metadata": {},
   "outputs": [
    {
     "name": "stdout",
     "output_type": "stream",
     "text": [
      "Searching for 42  10\n",
      "Searching for 2  1\n",
      "Searching for 1  -1\n",
      "Searching for 66  -1\n"
     ]
    }
   ],
   "source": [
    "# Testing code:\n",
    "    # expected result = index 10\n",
    "print('Searching for 42 ',binary_search([-4,2,7,10,15,20,22,25,30,36,42,50,56,68,85,92,103],42))\n",
    "    # expected result = index 1\n",
    "print('Searching for 2 ',binary_search([-4,2,7,10,15,20,22,25,30,36,42,50,56,68,85,92,103],2))\n",
    "    # expect -1, bc 1 is not in the list\n",
    "print('Searching for 1 ',binary_search([-4,2,7,10,15,20,22,25,30,36,42,50,56,68,85,92,103],1))\n",
    "    # expect -1, bc 66 is not in the list\n",
    "print('Searching for 66 ',binary_search([-4,2,7,10,15,20,22,25,30,36,42,50,56,68,85,92,103],66))"
   ]
  },
  {
   "cell_type": "markdown",
   "metadata": {},
   "source": [
    "Problem #2: Merge Sort Process\n",
    "\n",
    "Starting list: [29, 17, 3, 94, 46,  8, -4, 12]\n",
    "1st Split: {29,17,3,94}{46,8,-4,12}\n",
    "2nd Split: {29,17}{3,94}{46,8}{-4,12}\n",
    "3rd Split: {29}{17}{3}{94}{46}{8}{-4}{12}\n",
    "1st Merge: {17,29}{3,94}{8,46}{-4,12}\n",
    "2nd Merge: {3,17,29,94}{-4,8,12,46}\n",
    "3rd Merge: {-4,3,8,12,17,29,46,94}\n",
    "List sorted"
   ]
  },
  {
   "cell_type": "markdown",
   "metadata": {},
   "source": [
    "Problem #3: Merge_Sort 3\n",
    "\n",
    "Selection Sort:\n",
    "Ok, I thought it was 7 swaps for selection sort, which is right, but I hadn't figured\n",
    "that it cost 200 time units for each swap. My b\n",
    "\n",
    "Merge Sort:\n",
    "Is a lot more efficient because it only reassigns one value rather than both values\n",
    "when moving them around."
   ]
  },
  {
   "cell_type": "markdown",
   "metadata": {},
   "source": [
    "Data Lemur: min_inequity\n",
    "\n",
    "While this passes all the tests when I run them, Data Lemur won't accept it and I can't figure out why."
   ]
  },
  {
   "cell_type": "code",
   "execution_count": 59,
   "metadata": {},
   "outputs": [],
   "source": [
    "def min_inequity(lst, n):\n",
    "    if (len(lst) == 0 or n>len(lst)):   # if fed an empty list, or n out of bounds\n",
    "        return -1                       # return -1\n",
    "    elif len(lst) == 1:                 # if fed 1 salary\n",
    "        return 0                        # inequity = 0\n",
    "    else:                               # if the input is good\n",
    "        lst.sort()                              # sort the list\n",
    "        minIneq = max(lst)                      # assign the highest value as min\n",
    "        for i in range(0,len(lst)-n):           # for each index in the list\n",
    "            if(minIneq > (lst[i+n-1]-lst[i])):  # compare with it's neighbor n elements away\n",
    "                minIneq = (lst[i+n-1]-lst[i])   # if dif smaller than min, make it the min\n",
    "    return minIneq                              # return the minimum from the list"
   ]
  },
  {
   "cell_type": "code",
   "execution_count": 65,
   "metadata": {},
   "outputs": [
    {
     "name": "stdout",
     "output_type": "stream",
     "text": [
      "Test 1: Expect 10000. Returns 10000\n",
      "Test 1: Expect 20000. Returns 20000\n",
      "Test 1: Expect 35000. Returns 35000\n"
     ]
    }
   ],
   "source": [
    "print('Test 1: Expect 10000. Returns',min_inequity([60000, 80000, 120000, 70000],2))\n",
    "print('Test 1: Expect 20000. Returns',min_inequity([60000, 80000, 120000, 70000],3))\n",
    "print('Test 1: Expect 35000. Returns',min_inequity([60000, 80000, 120000, 70000, 130000, 95000, 125000],4))\n",
    "# These are all the test cases listed on the question so I'm not sure why it won't pass"
   ]
  },
  {
   "cell_type": "markdown",
   "metadata": {},
   "source": [
    "The following worked for data lemur. I'm still not sure why it didn't like the first program\n",
    "\n",
    "def min_inequity(salaries, n):\n",
    "    salaries.sort()\n",
    "    return min(salaries[i + n - 1] - salaries[i] for i in range(len(salaries) - n + 1))"
   ]
  },
  {
   "cell_type": "markdown",
   "metadata": {},
   "source": [
    "LeetCode 147: Insertion Sort List"
   ]
  },
  {
   "cell_type": "code",
   "execution_count": null,
   "metadata": {},
   "outputs": [],
   "source": [
    "# Definition for singly-linked list.\n",
    "class ListNode:\n",
    "    def __init__(self, val=0, next=None):\n",
    "        self.val = val\n",
    "        self.next = next\n",
    "\n",
    "class Solution:\n",
    "    def insertionSortList(self, head: ListNode) -> ListNode:\n",
    "        node = ListNode(0)  # a starting node\n",
    "        node.next = None    # sorted list starts empty\n",
    "        current = head      # the head node given on call\n",
    "        while current:      # while there are nodes left in the list\n",
    "            nextNode = current.next # grab next for iterating\n",
    "            prev = node             # attach to start node for return\n",
    "            while prev.next and prev.next.val < current.val:# stop correct insertion point\n",
    "                prev = prev.next                            # iterate through\n",
    "            current.next = prev.next# link current to the next node\n",
    "            prev.next = current     # link previous to current\n",
    "            current = nextNode  # move on to the next unsorted node\n",
    "        return node.next    # return the head of the sorted list"
   ]
  },
  {
   "cell_type": "code",
   "execution_count": null,
   "metadata": {},
   "outputs": [],
   "source": [
    "class Solution:\n",
    "    def merge(self, nums1: List[int], m: int, nums2: List[int], n: int) -> None:\n",
    "        # we start with two sorted lists so we can skip splitting, phew\n",
    "        p1 = m-1 # end index of populated portion of nums1\n",
    "        p2 = n-1 # end index of nums2\n",
    "        p =  m + n - 1  # the actual end index of the nums1, so we have room for both lists\n",
    "        while p1 >= 0 and p2 >= 0:  # til we get to index 0\n",
    "            if nums1[p1] > nums2[p2]:   # if the larges unsorted number in nums1 is greater\n",
    "                nums1[p] = nums1[p1]    #   put it at the very end of nums1\n",
    "                p1 -= 1                 #   move nums1 pointer\n",
    "            else:                       # else (nums[p2] is greater)\n",
    "                nums1[p] = nums2[p2]    #   put it at the very end of nums1\n",
    "                p2 -= 1                 #   move nums2 pointer\n",
    "            p -= 1                  # move p \n",
    "        while p2 >= 0:          # if we get through all of nums 1\n",
    "            nums1[p] = nums2[p2]    # insert nums2[p2]\n",
    "            p2 -= 1                 # iterate through all remaining elements\n",
    "            p -= 1\n"
   ]
  }
 ],
 "metadata": {
  "kernelspec": {
   "display_name": "base",
   "language": "python",
   "name": "python3"
  },
  "language_info": {
   "codemirror_mode": {
    "name": "ipython",
    "version": 3
   },
   "file_extension": ".py",
   "mimetype": "text/x-python",
   "name": "python",
   "nbconvert_exporter": "python",
   "pygments_lexer": "ipython3",
   "version": "3.12.4"
  }
 },
 "nbformat": 4,
 "nbformat_minor": 2
}
