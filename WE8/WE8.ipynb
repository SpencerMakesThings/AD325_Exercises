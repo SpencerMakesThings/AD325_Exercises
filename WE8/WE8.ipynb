{
 "cells": [
  {
   "cell_type": "markdown",
   "metadata": {},
   "source": [
    "## AD325 WE8: Graphs\n",
    "#### Spencer Kunz\n",
    "\n",
    "LeetCode: Find if Path Exists in Graph"
   ]
  },
  {
   "cell_type": "code",
   "execution_count": null,
   "metadata": {},
   "outputs": [],
   "source": [
    "class Solution:\n",
    "    def validPath(self, n: int, edges: list[list[int]], source: int, destination: int) -> bool:\n",
    "\n",
    "\n",
    "        adj_dict = {i: [] for i in range(n)}    # Make a dictionary to link adjacencies\n",
    "        for edge in edges:                      # for each edge described in edges\n",
    "            adj_dict[edge[0]].append(edge[1])   # link the first vertex to the second\n",
    "            adj_dict[edge[1]].append(edge[0])   # link them the other way around too cause 2 way edges\n",
    "        \n",
    "\n",
    "        frontier_list = [source]                # The list of nodes to check starts with the source\n",
    "        visited = [False] * n                   # This was previously a set but we were having memory limit issues\n",
    "    \n",
    "        while frontier_list:                                    # While there's still frontier to explore\n",
    "\n",
    "            new_frontier_list = []                              # Make a empty list for the new frontier\n",
    "\n",
    "            if destination in frontier_list: return True        # if destination is found, return True\n",
    "\n",
    "            for vertex in frontier_list:                        # for every vertex in the frontier list\n",
    "                if not visited[vertex]:                         # if we haven't visited this vertex\n",
    "                    visited[vertex] = True                      # mark it as visited\n",
    "                    new_frontier_list.extend(adj_dict[vertex])  # add all the adjacent \n",
    "\n",
    "            frontier_list = new_frontier_list                   # set the new frontier list\n",
    "\n",
    "        return False                    # If we search everything we can without finding destination, return False\n"
   ]
  },
  {
   "cell_type": "markdown",
   "metadata": {},
   "source": [
    "#### NOTES:\n",
    "\n",
    "We have:\n",
    "    n           : the number of vertices\n",
    "    edges       : the 2D array showing all our connections\n",
    "    source      : the starting vertex\n",
    "    destination : the vertex we need to pathfind to\n",
    "\n",
    "We don't need to return a path; just whether or not there is a path\n",
    "\n",
    "I guess we start at source\n",
    "Put all adjacent connections into a frontier_list\n",
    "As we check them, we add their adjacents to a new_frontier_list and\n",
    "pop them from frontier into searched_list\n",
    "if we see the destination node (maybe in frontier_list)\n",
    "    return True\n",
    "if we've searched all the nodes we can and not seen destination\n",
    "    return False\n",
    "\n",
    "^ it ended up getting a little more complicated than this"
   ]
  }
 ],
 "metadata": {
  "language_info": {
   "name": "python"
  }
 },
 "nbformat": 4,
 "nbformat_minor": 2
}
