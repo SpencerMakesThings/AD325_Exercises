{
 "cells": [
  {
   "cell_type": "code",
   "execution_count": null,
   "metadata": {},
   "outputs": [],
   "source": []
  },
  {
   "cell_type": "markdown",
   "metadata": {},
   "source": [
    "ok so each ledger entry is a deque in the ledger, i think\n",
    "\n",
    "Run main: it makes a STONK-LEDGER, maybe name it Heath if we're feeling comedic\n",
    "Then, it runs our input code (buys and sells STONKS)\n",
    "    Each different stonk is represented by a LedgerEntry with the stonk's name\n",
    "    The STONK-LEDGER holds a list of LedgerEntry items, each w dif name\n",
    "    "
   ]
  }
 ],
 "metadata": {
  "language_info": {
   "name": "python"
  }
 },
 "nbformat": 4,
 "nbformat_minor": 2
}
