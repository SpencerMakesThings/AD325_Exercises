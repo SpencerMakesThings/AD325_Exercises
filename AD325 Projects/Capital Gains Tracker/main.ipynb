{
 "cells": [
  {
   "cell_type": "code",
   "execution_count": 3,
   "metadata": {},
   "outputs": [
    {
     "name": "stdout",
     "output_type": "stream",
     "text": [
      "Ledger after initial buys:\n",
      "AAPL: 45.0 (20 shares), 75.0 (20 shares)\n",
      "MSFT: 95.0 (20 shares)\n"
     ]
    },
    {
     "ename": "AttributeError",
     "evalue": "'LedgerEntry' object has no attribute 'get_deque_size'",
     "output_type": "error",
     "traceback": [
      "\u001b[1;31m---------------------------------------------------------------------------\u001b[0m",
      "\u001b[1;31mAttributeError\u001b[0m                            Traceback (most recent call last)",
      "Cell \u001b[1;32mIn[3], line 20\u001b[0m\n\u001b[0;32m     17\u001b[0m ledger\u001b[38;5;241m.\u001b[39mdisplay_ledger()\n\u001b[0;32m     19\u001b[0m \u001b[38;5;66;03m#5: Sell 30 shares of AAPL at $65\u001b[39;00m\n\u001b[1;32m---> 20\u001b[0m ledger\u001b[38;5;241m.\u001b[39msell(\u001b[38;5;124m'\u001b[39m\u001b[38;5;124mAAPL\u001b[39m\u001b[38;5;124m'\u001b[39m, \u001b[38;5;241m30\u001b[39m, \u001b[38;5;241m65.0\u001b[39m)\n\u001b[0;32m     22\u001b[0m \u001b[38;5;66;03m#6: Display the ledger\u001b[39;00m\n\u001b[0;32m     23\u001b[0m \u001b[38;5;28mprint\u001b[39m(\u001b[38;5;124m\"\u001b[39m\u001b[38;5;130;01m\\n\u001b[39;00m\u001b[38;5;124mLedger after selling 30 shares of AAPL:\u001b[39m\u001b[38;5;124m\"\u001b[39m)\n",
      "File \u001b[1;32mc:\\Users\\Boogie_Black\\Desktop\\Stuff\\New School Stuff\\02 Coursework\\Q1, 2024\\CSDS 325\\00 Repos n Stuff\\AD325_EXERCISES\\AD325 Projects\\Capital Gains Tracker\\stock_ledger.py:29\u001b[0m, in \u001b[0;36mStockLedger.sell\u001b[1;34m(self, stock_symbol, shares_sold, price_per_share)\u001b[0m\n\u001b[0;32m     27\u001b[0m \u001b[38;5;28;01mif\u001b[39;00m \u001b[38;5;28mself\u001b[39m\u001b[38;5;241m.\u001b[39mcontains(stock_symbol):\n\u001b[0;32m     28\u001b[0m     entry \u001b[38;5;241m=\u001b[39m \u001b[38;5;28mself\u001b[39m\u001b[38;5;241m.\u001b[39mget_entry(stock_symbol)\n\u001b[1;32m---> 29\u001b[0m     \u001b[38;5;28;01mif\u001b[39;00m (entry\u001b[38;5;241m.\u001b[39mget_deque_size() \u001b[38;5;241m>\u001b[39m\u001b[38;5;241m=\u001b[39m shares_sold): \u001b[38;5;66;03m# if there's at least shares_sold number of nodes\u001b[39;00m\n\u001b[0;32m     30\u001b[0m         \u001b[38;5;66;03m# ledger_entry remove() command\u001b[39;00m\n\u001b[0;32m     31\u001b[0m         \u001b[38;5;66;03m# remove shares_sold nodes from the end of the deque\u001b[39;00m\n\u001b[0;32m     32\u001b[0m         \u001b[38;5;28;01mfor\u001b[39;00m i \u001b[38;5;129;01min\u001b[39;00m \u001b[38;5;28mrange\u001b[39m(shares_sold):\n\u001b[0;32m     33\u001b[0m             entry\u001b[38;5;241m.\u001b[39mremove_purchase() \u001b[38;5;66;03m# execute remove shares_sold times\u001b[39;00m\n",
      "\u001b[1;31mAttributeError\u001b[0m: 'LedgerEntry' object has no attribute 'get_deque_size'"
     ]
    }
   ],
   "source": [
    "from stock_ledger import StockLedger\n",
    "\n",
    "# Create a new StockLedger instance\n",
    "ledger = StockLedger()\n",
    "\n",
    "#1: Buy 20 shares of AAPL at $45\n",
    "ledger.buy('AAPL', 20, 45.0)\n",
    "\n",
    "#2: Buy 20 shares of AAPL at $75\n",
    "ledger.buy('AAPL', 20, 75.0)\n",
    "\n",
    "#3: Buy 20 shares of MSFT at $95\n",
    "ledger.buy('MSFT', 20, 95.0)\n",
    "\n",
    "#4: Display the ledger\n",
    "print(\"Ledger after initial buys:\")\n",
    "ledger.display_ledger()\n",
    "\n",
    "#5: Sell 30 shares of AAPL at $65\n",
    "ledger.sell('AAPL', 30, 65.0)\n",
    "\n",
    "#6: Display the ledger\n",
    "print(\"\\nLedger after selling 30 shares of AAPL:\")\n",
    "ledger.display_ledger()\n",
    "\n",
    "#7: Sell 10 shares of AAPL at $65\n",
    "ledger.sell('AAPL', 10, 65.0)\n",
    "\n",
    "#8: Display the ledger\n",
    "print(\"\\nLedger after selling 10 shares of AAPL:\")\n",
    "ledger.display_ledger()\n",
    "\n",
    "#9: Buy 100 shares of AAPL at $20\n",
    "ledger.buy('AAPL', 100, 20.0)\n",
    "\n",
    "#10: Buy 20 shares of AAPL at $24\n",
    "ledger.buy('AAPL', 20, 24.0)\n",
    "\n",
    "#11: Buy 200 shares of TSLA at $36\n",
    "ledger.buy('TSLA', 200, 36.0)\n",
    "\n",
    "#12: Display the ledger\n",
    "print(\"\\nLedger after more buys (AAPL, TSLA):\")\n",
    "ledger.display_ledger()\n",
    "\n",
    "#13: Sell 10 shares of AAPL at $65\n",
    "ledger.sell('AAPL', 10, 65.0)\n",
    "\n",
    "#14: Display the ledger\n",
    "print(\"\\nLedger after selling 10 more shares of AAPL:\")\n",
    "ledger.display_ledger()\n",
    "\n",
    "#15: Sell 150 shares of TSLA at $30\n",
    "ledger.sell('TSLA', 150, 30.0)\n",
    "\n",
    "#16: Display the ledger\n",
    "print(\"\\nLedger after selling 150 shares of TSLA:\")\n",
    "ledger.display_ledger()\n",
    "\n",
    "#17: Buy 5 shares of MSFT at $60\n",
    "ledger.buy('MSFT', 5, 60.0)\n",
    "\n",
    "#18: Buy 5 shares of MSFT at $70\n",
    "ledger.buy('MSFT', 5, 70.0)\n",
    "\n",
    "#19: Display the ledger\n",
    "print(\"\\nLedger after more buys (MSFT):\")\n",
    "ledger.display_ledger()\n",
    "\n",
    "#20: Sell 4 shares of MSFT at $30\n",
    "ledger.sell('MSFT', 4, 30.0)\n",
    "\n",
    "#21: Display the ledger\n",
    "print(\"\\nLedger after selling 4 shares of MSFT:\")\n",
    "ledger.display_ledger()\n",
    "\n",
    "#22: Sell 2 shares of MSFT at $30\n",
    "ledger.sell('MSFT', 2, 30.0)\n",
    "\n",
    "#23: Display the ledger\n",
    "print(\"\\nLedger after selling 2 more shares of MSFT:\")\n",
    "ledger.display_ledger()\n"
   ]
  },
  {
   "cell_type": "markdown",
   "metadata": {},
   "source": [
    "ok so each ledger entry is a deque in the ledger, i think\n",
    "\n",
    "Run main: it makes a STONK-LEDGER\n",
    "Then, it runs our input code (buys and sells STONKS)\n",
    "    Each different stonk is represented by a LedgerEntry with the stonk's name\n",
    "    The STONK-LEDGER holds a list of LedgerEntry items, each w dif name\n",
    "    \n",
    "Late Late notes:\n",
    "    "
   ]
  }
 ],
 "metadata": {
  "kernelspec": {
   "display_name": "base",
   "language": "python",
   "name": "python3"
  },
  "language_info": {
   "codemirror_mode": {
    "name": "ipython",
    "version": 3
   },
   "file_extension": ".py",
   "mimetype": "text/x-python",
   "name": "python",
   "nbconvert_exporter": "python",
   "pygments_lexer": "ipython3",
   "version": "3.12.4"
  }
 },
 "nbformat": 4,
 "nbformat_minor": 2
}
